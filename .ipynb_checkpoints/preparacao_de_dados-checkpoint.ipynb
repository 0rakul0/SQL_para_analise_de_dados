{
 "cells": [
  {
   "cell_type": "code",
   "execution_count": 4,
   "id": "a8a1f675",
   "metadata": {},
   "outputs": [],
   "source": [
    "import requests\n",
    "import json\n",
    "import pandas as pd\n",
    "import psycopg2"
   ]
  },
  {
   "cell_type": "code",
   "execution_count": 18,
   "id": "7601512f",
   "metadata": {},
   "outputs": [
    {
     "name": "stdout",
     "output_type": "stream",
     "text": [
      "conectado\n"
     ]
    }
   ],
   "source": [
    "host = 'host.docker.internal'\n",
    "user = 'postgres'\n",
    "password = 'postgrespw'\n",
    "port = '32768'\n",
    "\n",
    "try:\n",
    "    conn_str = f'host={host} user={user} password={password} port={port}'\n",
    "    conexao = psycopg2.connect(conn_str)\n",
    "    print(\"conectado\")\n",
    "    cursor = conexao.cursor()\n",
    "except Exception as e:\n",
    "    print(\"falha ao conectar\", e)"
   ]
  },
  {
   "cell_type": "markdown",
   "id": "3ca74754",
   "metadata": {},
   "source": [
    "# SQL para analise dados"
   ]
  },
  {
   "cell_type": "markdown",
   "id": "a4148275",
   "metadata": {},
   "source": [
    "### criação de uma tabela para consulta dos dados"
   ]
  },
  {
   "cell_type": "markdown",
   "id": "730b8a25",
   "metadata": {},
   "source": [
    "```sql\n",
    "\n",
    "CREATE TABLE IF NOT EXISTS movimento (\n",
    "  id SERIAL PRIMARY KEY,\n",
    "  id_processo INT NOT NULL,\n",
    "  data_movimento DATE NOT NULL,\n",
    "  \"tipo_movimento\" VARCHAR(255) NOT NULL,\n",
    "  \"texto_movimento\" TEXT NOT NULL,\n",
    "  movimento_marcador_id INT NOT NULL,\n",
    "  FOREIGN KEY (movimento_marcador_id) REFERENCES movimento_marcador(id)\n",
    ");\n",
    "\n",
    "CREATE TABLE IF NOT EXISTS movimento_marcador (\n",
    "  id SERIAL PRIMARY KEY,\n",
    "  id_marcador INT NOT NULL,\n",
    "  id_tema INT NOT NULL,\n",
    "  id_codigo INT NOT NULL,\n",
    "  FOREIGN KEY (id_tema) REFERENCES tema(id),\n",
    "  FOREIGN KEY (id_codigo) REFERENCES codigo(id)\n",
    ");\n",
    "\n",
    "CREATE TABLE IF NOT EXISTS tema (\n",
    "  id SERIAL PRIMARY KEY,\n",
    "  numero_tema INT NOT NULL,\n",
    "  \"texo_tema\" TEXT NOT NULL\n",
    ");\n",
    "\n",
    "CREATE TABLE IF NOT EXISTS codigo (\n",
    "  id SERIAL PRIMARY KEY,\n",
    "  numero_codigo INT NOT NULL,\n",
    "  \"texo_codigo\" TEXT NOT NULL\n",
    ");\n",
    "\n",
    "\n",
    "```"
   ]
  },
  {
   "cell_type": "code",
   "execution_count": null,
   "id": "884bad5f",
   "metadata": {},
   "outputs": [],
   "source": [
    "try:\n",
    "    cursor.execute(\n",
    "    'CREATE TABLE IF NOT EXISTS tema (\\\n",
    "  id SERIAL PRIMARY KEY,\\\n",
    "  numero_tema INT NOT NULL,\\\n",
    "  \"texo_tema\" TEXT NOT NULL\\\n",
    ");\\\n",
    "CREATE TABLE codigo (\\\n",
    "  id SERIAL PRIMARY KEY,\\\n",
    "  numero_codigo INT NOT NULL,\\\n",
    "  \"texo_codigo\" TEXT NOT NULL\\\n",
    ");')\n",
    "    conexao.commit()\n",
    "except Exception as e:\n",
    "    conexao.rollback()\n",
    "    print(\"Erro: \", e)"
   ]
  },
  {
   "cell_type": "code",
   "execution_count": 22,
   "id": "05d1650c",
   "metadata": {},
   "outputs": [],
   "source": [
    "try:\n",
    "    cursor.execute(\n",
    "    'CREATE TABLE IF NOT EXISTS movimento_marcador (\\\n",
    "  id SERIAL PRIMARY KEY,\\\n",
    "  id_marcador INT NOT NULL,\\\n",
    "  id_tema INT NOT NULL,\\\n",
    "  id_codigo INT NOT NULL,\\\n",
    "  FOREIGN KEY (id_tema) REFERENCES tema(id),\\\n",
    "  FOREIGN KEY (id_codigo) REFERENCES codigo(id)\\\n",
    ");')\n",
    "    conexao.commit()\n",
    "except Exception as e:\n",
    "    conexao.rollback()\n",
    "    print(\"Erro: \", e)"
   ]
  },
  {
   "cell_type": "code",
   "execution_count": 23,
   "id": "0f31b78f",
   "metadata": {},
   "outputs": [],
   "source": [
    "try:\n",
    "    cursor.execute(\n",
    "    'CREATE TABLE IF NOT EXISTS movimento (\\\n",
    "  id SERIAL PRIMARY KEY,\\\n",
    "  id_processo INT NOT NULL,\\\n",
    "  data_movimento DATE NOT NULL,\\\n",
    "  \"tipo_movimento\" VARCHAR(255) NOT NULL,\\\n",
    "  \"texto_movimento\" TEXT NOT NULL,\\\n",
    "  movimento_marcador_id INT NOT NULL,\\\n",
    "  FOREIGN KEY (movimento_marcador_id) REFERENCES movimento_marcador(id)\\\n",
    ");')\n",
    "    conexao.commit()\n",
    "except Exception as e:\n",
    "    conexao.rollback()\n",
    "    print(\"Erro: \", e)"
   ]
  },
  {
   "cell_type": "markdown",
   "id": "3526d5ee",
   "metadata": {},
   "source": [
    "#### vizualisando as tabelas criadas "
   ]
  },
  {
   "cell_type": "code",
   "execution_count": 25,
   "id": "24f96b62",
   "metadata": {},
   "outputs": [
    {
     "name": "stdout",
     "output_type": "stream",
     "text": [
      "('tema',)\n",
      "('movimento_marcador',)\n",
      "('codigo',)\n",
      "('movimento',)\n"
     ]
    }
   ],
   "source": [
    "cursor = conexao.cursor()\n",
    "cursor.execute(\"SELECT table_name FROM information_schema.tables WHERE table_schema='public'\")\n",
    "tables = cursor.fetchall()\n",
    "for table in tables:\n",
    "    print(table)"
   ]
  },
  {
   "cell_type": "code",
   "execution_count": null,
   "id": "552fbf82",
   "metadata": {},
   "outputs": [],
   "source": [
    "cursor.execute(\"\"\"\n",
    "    INSERT INTO movimento_marcador (id_marcador, id_tema, id_codigo)\n",
    "    VALUES (1, 1, 1);\n",
    "\"\"\")"
   ]
  },
  {
   "cell_type": "code",
   "execution_count": null,
   "id": "7fcd19cc",
   "metadata": {},
   "outputs": [],
   "source": [
    "cursor.execute(f\"\"\"\n",
    "    INSERT INTO movimento (id_processo, data_movimento, tipo_movimento, texto_movimento, movimento_marcador_id)\n",
    "    VALUES (1, {data}, {Tipo_movimento}, {teor_texto_moviemento}, 1);\n",
    "\"\"\")"
   ]
  }
 ],
 "metadata": {
  "kernelspec": {
   "display_name": "Python 3 (ipykernel)",
   "language": "python",
   "name": "python3"
  },
  "language_info": {
   "codemirror_mode": {
    "name": "ipython",
    "version": 3
   },
   "file_extension": ".py",
   "mimetype": "text/x-python",
   "name": "python",
   "nbconvert_exporter": "python",
   "pygments_lexer": "ipython3",
   "version": "3.9.13"
  }
 },
 "nbformat": 4,
 "nbformat_minor": 5
}
